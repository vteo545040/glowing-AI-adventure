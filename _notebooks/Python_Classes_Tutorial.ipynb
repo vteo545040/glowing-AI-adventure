{
 "cells": [
  {
   "cell_type": "markdown",
   "id": "8a9ad4ff",
   "metadata": {},
   "source": [
    "# Python Classes: When to Use Them (and When Not To)\n",
    "- author: Victor Teo MBBS (NUS)\n",
    "- categories: [Python]\n",
    "- comments: true\n",
    "*A Practical Guide for Beginners and Intermediate Developers*"
   ]
  },
  {
   "cell_type": "markdown",
   "id": "06d864dd",
   "metadata": {},
   "source": [
    "## 1. Introduction\n",
    "Python supports both **object-oriented programming (OOP)** and **procedural/functional styles**. \n",
    "Knowing when to use a **class** versus simpler alternatives helps keep your code clean and efficient.\n",
    "\n",
    "This guide explains:\n",
    "✅ **When classes are necessary** (with examples)  \n",
    "❌ **When they're overkill** (and better alternatives)"
   ]
  },
  {
   "cell_type": "markdown",
   "id": "41ea72f9",
   "metadata": {},
   "source": [
    "## 2. When to Use a Class"
   ]
  },
  {
   "cell_type": "markdown",
   "id": "a246a7c4",
   "metadata": {},
   "source": [
    "### 2.1 Modeling Real-World Objects\n",
    "If an entity has **data (attributes)** and **actions (methods)**, a class makes sense."
   ]
  },
  {
   "cell_type": "markdown",
   "id": "6b6c29c4",
   "metadata": {},
   "source": [
    "#### Example: Bank Account"
   ]
  },
  {
   "cell_type": "code",
   "execution_count": null,
   "id": "efae55cb",
   "metadata": {},
   "outputs": [],
   "source": [
    "class BankAccount:\n",
    "    def __init__(self, balance=0):\n",
    "        self.balance = balance\n",
    "    \n",
    "    def deposit(self, amount):\n",
    "        self.balance += amount\n",
    "    \n",
    "    def withdraw(self, amount):\n",
    "        if self.balance >= amount:\n",
    "            self.balance -= amount\n",
    "\n",
    "# Usage\n",
    "account = BankAccount(100)\n",
    "account.deposit(50)\n",
    "print(account.balance)  # Output: 150"
   ]
  },
  {
   "cell_type": "markdown",
   "id": "b7ba74cf",
   "metadata": {},
   "source": [
    "### 2.2 Maintaining State\n",
    "Classes help track **changing state** over time."
   ]
  },
  {
   "cell_type": "markdown",
   "id": "849dbfaf",
   "metadata": {},
   "source": [
    "#### Example: Game Character"
   ]
  },
  {
   "cell_type": "code",
   "execution_count": null,
   "id": "778a533c",
   "metadata": {},
   "outputs": [],
   "source": [
    "class Player:\n",
    "    def __init__(self, name, health=100):\n",
    "        self.name = name\n",
    "        self.health = health\n",
    "    \n",
    "    def take_damage(self, damage):\n",
    "        self.health -= damage\n",
    "        if self.health <= 0:\n",
    "            print(f\"{self.name} has been defeated!\")\n",
    "\n",
    "# Usage\n",
    "hero = Player(\"Alex\")\n",
    "hero.take_damage(30)\n",
    "print(hero.health)  # Output: 70"
   ]
  },
  {
   "cell_type": "markdown",
   "id": "101fa216",
   "metadata": {},
   "source": [
    "### 2.3 Inheritance & Polymorphism\n",
    "Use classes when different objects share **common behavior**."
   ]
  },
  {
   "cell_type": "markdown",
   "id": "ac61d2f8",
   "metadata": {},
   "source": [
    "#### Example: Animals"
   ]
  },
  {
   "cell_type": "code",
   "execution_count": null,
   "id": "da46a4ef",
   "metadata": {},
   "outputs": [],
   "source": [
    "class Animal:\n",
    "    def speak(self):\n",
    "        raise NotImplementedError(\"Subclass must implement this\")\n",
    "\n",
    "class Dog(Animal):\n",
    "    def speak(self):\n",
    "        return \"Woof!\"\n",
    "\n",
    "class Cat(Animal):\n",
    "    def speak(self):\n",
    "        return \"Meow!\"\n",
    "\n",
    "# Usage\n",
    "animals = [Dog(), Cat()]\n",
    "for animal in animals:\n",
    "    print(animal.speak())  # Output: Woof! Meow!"
   ]
  },
  {
   "cell_type": "markdown",
   "id": "0844776a",
   "metadata": {},
   "source": [
    "### 2.4 Encapsulation (Controlled Access)\n",
    "Use classes to **protect data** with private variables (`_var` or `__var`)."
   ]
  },
  {
   "cell_type": "markdown",
   "id": "46c12d78",
   "metadata": {},
   "source": [
    "#### Example: Temperature Sensor"
   ]
  },
  {
   "cell_type": "code",
   "execution_count": null,
   "id": "5382a5d7",
   "metadata": {},
   "outputs": [],
   "source": [
    "class TemperatureSensor:\n",
    "    def __init__(self):\n",
    "        self._current_temp = 0  # Protected variable\n",
    "    \n",
    "    def get_temp(self):\n",
    "        return self._current_temp\n",
    "    \n",
    "    def update_temp(self, new_temp):\n",
    "        if -50 <= new_temp <= 150:  # Validation\n",
    "            self._current_temp = new_temp\n",
    "\n",
    "# Usage\n",
    "sensor = TemperatureSensor()\n",
    "sensor.update_temp(25)\n",
    "print(sensor.get_temp())  # Output: 25"
   ]
  },
  {
   "cell_type": "markdown",
   "id": "393f6fe7",
   "metadata": {},
   "source": [
    "### 2.5 Special Methods (`__str__`, `__eq__`, etc.)\n",
    "Customize how objects behave with operators."
   ]
  },
  {
   "cell_type": "markdown",
   "id": "a43efb70",
   "metadata": {},
   "source": [
    "#### Example: Vector Addition"
   ]
  },
  {
   "cell_type": "code",
   "execution_count": null,
   "id": "0bdea93e",
   "metadata": {},
   "outputs": [],
   "source": [
    "class Vector:\n",
    "    def __init__(self, x, y):\n",
    "        self.x = x\n",
    "        self.y = y\n",
    "    \n",
    "    def __add__(self, other):\n",
    "        return Vector(self.x + other.x, self.y + other.y)\n",
    "    \n",
    "    def __str__(self):\n",
    "        return f\"Vector({self.x}, {self.y})\"\n",
    "\n",
    "# Usage\n",
    "v1 = Vector(2, 3)\n",
    "v2 = Vector(1, 4)\n",
    "result = v1 + v2\n",
    "print(result)  # Output: Vector(3, 7)"
   ]
  },
  {
   "cell_type": "markdown",
   "id": "bb78a078",
   "metadata": {},
   "source": [
    "## 3. When NOT to Use a Class"
   ]
  },
  {
   "cell_type": "markdown",
   "id": "1699df82",
   "metadata": {},
   "source": [
    "### 3.1 Simple Data Storage → Use `dict`, `namedtuple`, or `dataclass`\n",
    "If you just need to **group data without methods**, avoid classes."
   ]
  },
  {
   "cell_type": "markdown",
   "id": "f5ffa7a5",
   "metadata": {},
   "source": [
    "#### Better: `dataclass` (Python 3.7+)"
   ]
  },
  {
   "cell_type": "code",
   "execution_count": null,
   "id": "2a781373",
   "metadata": {},
   "outputs": [],
   "source": [
    "from dataclasses import dataclass\n",
    "\n",
    "@dataclass\n",
    "class Point:\n",
    "    x: float\n",
    "    y: float\n",
    "\n",
    "# Usage\n",
    "p = Point(3.5, 4.2)\n",
    "print(p.x)  # Output: 3.5"
   ]
  },
  {
   "cell_type": "markdown",
   "id": "78baa9f9",
   "metadata": {},
   "source": [
    "#### Alternative: `namedtuple`"
   ]
  },
  {
   "cell_type": "code",
   "execution_count": null,
   "id": "bf3e8635",
   "metadata": {},
   "outputs": [],
   "source": [
    "from collections import namedtuple\n",
    "Point = namedtuple(\"Point\", [\"x\", \"y\"])\n",
    "\n",
    "p = Point(3.5, 4.2)\n",
    "print(p.y)  # Output: 4.2"
   ]
  },
  {
   "cell_type": "markdown",
   "id": "66d3001b",
   "metadata": {},
   "source": [
    "### 3.2 Single-Function Behavior → Use a Function\n",
    "If you only need **one action**, a class is overkill."
   ]
  },
  {
   "cell_type": "markdown",
   "id": "b52fcd5a",
   "metadata": {},
   "source": [
    "#### Bad (Unnecessary Class)"
   ]
  },
  {
   "cell_type": "code",
   "execution_count": null,
   "id": "694cd590",
   "metadata": {},
   "outputs": [],
   "source": [
    "class Greeter:\n",
    "    def greet(self, name):\n",
    "        return f\"Hello, {name}!\"\n",
    "\n",
    "g = Greeter()\n",
    "print(g.greet(\"Alice\"))  # Output: Hello, Alice!"
   ]
  },
  {
   "cell_type": "markdown",
   "id": "6bc6bde5",
   "metadata": {},
   "source": [
    "#### Better (Just a Function)"
   ]
  },
  {
   "cell_type": "code",
   "execution_count": null,
   "id": "1fda93f8",
   "metadata": {},
   "outputs": [],
   "source": [
    "def greet(name):\n",
    "    return f\"Hello, {name}!\"\n",
    "\n",
    "print(greet(\"Alice\"))  # Output: Hello, Alice!"
   ]
  },
  {
   "cell_type": "markdown",
   "id": "01cc8a82",
   "metadata": {},
   "source": [
    "### 3.3 Stateless Operations → Use Module Functions\n",
    "If you're just grouping **utility functions**, use a **module** instead."
   ]
  },
  {
   "cell_type": "markdown",
   "id": "d8f8420b",
   "metadata": {},
   "source": [
    "#### Bad (Unnecessary Class)"
   ]
  },
  {
   "cell_type": "code",
   "execution_count": null,
   "id": "fd7d9424",
   "metadata": {},
   "outputs": [],
   "source": [
    "class MathUtils:\n",
    "    @staticmethod\n",
    "    def add(a, b):\n",
    "        return a + b\n",
    "\n",
    "print(MathUtils.add(2, 3))  # Output: 5"
   ]
  },
  {
   "cell_type": "markdown",
   "id": "e81ad7c4",
   "metadata": {},
   "source": [
    "#### Better (Module Functions)"
   ]
  },
  {
   "cell_type": "code",
   "execution_count": null,
   "id": "fd8ad885",
   "metadata": {},
   "outputs": [],
   "source": [
    "# %%writefile math_utils.py\n",
    "def add(a, b):\n",
    "    return a + b\n",
    "\n",
    "# In a separate cell (or file)\n",
    "from math_utils import add\n",
    "print(add(2, 3))  # Output: 5"
   ]
  },
  {
   "cell_type": "markdown",
   "id": "e6d94a7b",
   "metadata": {},
   "source": [
    "### 3.4 Global Configuration → Use a Module\n",
    "Avoid **singleton classes** for settings—just use **module-level variables**."
   ]
  },
  {
   "cell_type": "markdown",
   "id": "cc80a498",
   "metadata": {},
   "source": [
    "#### Bad (Unnecessary Class)"
   ]
  },
  {
   "cell_type": "code",
   "execution_count": null,
   "id": "2c968fa2",
   "metadata": {},
   "outputs": [],
   "source": [
    "class Config:\n",
    "    DEBUG = True\n",
    "    DATABASE = \"sqlite:///db.sqlite3\""
   ]
  },
  {
   "cell_type": "markdown",
   "id": "9e5c5d67",
   "metadata": {},
   "source": [
    "#### Better (Plain Module)"
   ]
  },
  {
   "cell_type": "code",
   "execution_count": null,
   "id": "ad2e429a",
   "metadata": {},
   "outputs": [],
   "source": [
    "# %%writefile config.py\n",
    "DEBUG = True\n",
    "DATABASE = \"sqlite:///db.sqlite3\"\n",
    "\n",
    "# In a separate cell (or file)\n",
    "import config\n",
    "if config.DEBUG:\n",
    "    print(\"Debug mode is ON\")"
   ]
  },
  {
   "cell_type": "markdown",
   "id": "37a01837",
   "metadata": {},
   "source": [
    "## 4. Key Takeaways\n",
    "\n",
    "| **Use a Class When…**               | **Avoid a Class When…**               |\n",
    "|-------------------------------------|---------------------------------------|\n",
    "| You need **data + methods together** | You just need **data storage** (`dict`, `dataclass`) |\n",
    "| You need **inheritance/polymorphism** | You have a **single function** (use a function) |\n",
    "| You need **state management**       | You're grouping **stateless utilities** (use a module) |\n",
    "| You need **operator overloading** (`__add__`, `__str__`) | You're storing **global settings** (use a module) |"
   ]
  },
  {
   "cell_type": "markdown",
   "id": "d6b3675a",
   "metadata": {},
   "source": [
    "## 5. Final Advice\n",
    "- **Prefer simplicity**: If a class doesn't add value, don't use one.\n",
    "- **Python is multi-paradigm**: Use OOP when it helps, but functions/modules when they're cleaner.\n",
    "- **Start small**: Use `dataclass` or `namedtuple` for simple data, then upgrade to full classes if needed.\n",
    "\n",
    "---\n",
    "\n",
    "### **Further Reading**\n",
    "- [Python `dataclasses` (Official Docs)](https://docs.python.org/3/library/dataclasses.html)\n",
    "- [When to Use Classes vs. Functions in Python](https://realpython.com/python-classes-vs-functions/)"
   ]
  }
 ],
 "metadata": {
  "kernelspec": {
   "display_name": "Python 3 (ipykernel)",
   "language": "python",
   "name": "python3"
  },
  "language_info": {
   "codemirror_mode": {
    "name": "ipython",
    "version": 3
   },
   "file_extension": ".py",
   "mimetype": "text/x-python",
   "name": "python",
   "nbconvert_exporter": "python",
   "pygments_lexer": "ipython3",
   "version": "3.12.3"
  }
 },
 "nbformat": 4,
 "nbformat_minor": 5
}
